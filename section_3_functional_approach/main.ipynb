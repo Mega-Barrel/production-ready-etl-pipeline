{
 "cells": [
  {
   "cell_type": "code",
   "execution_count": null,
   "metadata": {},
   "outputs": [],
   "source": [
    "import boto3\n",
    "import pandas as pd\n",
    "from io import StringIO, BytesIO\n",
    "from datetime import datetime, timedelta"
   ]
  },
  {
   "attachments": {},
   "cell_type": "markdown",
   "metadata": {},
   "source": [
    "#### Adapter Layer"
   ]
  },
  {
   "cell_type": "code",
   "execution_count": null,
   "metadata": {},
   "outputs": [],
   "source": [
    "def csv_to_df(bucket, key, decoding='utf-8',sep=','):\n",
    "    csv_obj = bucket.Object(key=key).get(\"Body\").read().decode(decoding)\n",
    "    data = StringIO(csv_obj)\n",
    "    # read the csv data\n",
    "    df = pd.read_csv(data, delimiter=sep)\n",
    "    return df\n",
    "\n",
    "def write_df_s3(bucket, df, key):\n",
    "    out_buffer = BytesIO()\n",
    "    df.to_parquet(out_buffer, index=False)\n",
    "    bucket.put_object(Body=out_buffer.get_value(), key=key)\n",
    "    return True\n",
    "\n",
    "def return_objects(bucket, args_date):\n",
    "    min_date = datetime.strptime(args_date, src_format).date() - timedelta(days=1)\n",
    "    objects = [obj.key for obj in bucket.objects.all() if datetime.strptime(obj.key.split('/')[0], src_format).date() >= min_date]\n",
    "    return objects"
   ]
  },
  {
   "attachments": {},
   "cell_type": "markdown",
   "metadata": {},
   "source": [
    "#### Application Layer"
   ]
  },
  {
   "cell_type": "code",
   "execution_count": null,
   "metadata": {},
   "outputs": [],
   "source": [
    "def extract(bucket, objects):\n",
    "    df = pd.concat([csv_to_df(bucket, obj) for obj in objects], ignore_index=True)\n",
    "    return df\n",
    "\n",
    "def transform_report1(df, columns, arg_date):\n",
    "    df = df.loc[:, columns]\n",
    "    df.dropna(inplace=True)\n",
    "    df['opening_price'] = df.sort_values(by=['Time']).groupby(['ISIN', 'Date'])['StartPrice'].transform('first')\n",
    "    df['closing_price'] = df.sort_values(by=['Time']).groupby(['ISIN', 'Date'])['StartPrice'].transform('last')\n",
    "    df = df.groupby(['ISIN', 'Date'], as_index=False).agg(\n",
    "        opening_price_eur=('opening_price', 'min'), \n",
    "        closing_price_eur=('closing_price', 'min'),\n",
    "        minimum_price_eur=('MinPrice', 'min'),\n",
    "        maximum_price_eur=('MaxPrice', 'max'),\n",
    "        daily_trader_volume=('TradedVolume', 'sum')\n",
    "    )\n",
    "    df['prev_closing_price'] = df.sort_values(by=['Date']).groupby(['ISIN'])['closing_price_eur'].shift(1)\n",
    "    \n",
    "    df['change_prev_closing_%'] = (\n",
    "        df['closing_price_eur'] - df['prev_closing_price']\n",
    "    ) / df['prev_closing_price'] * 100\n",
    "    \n",
    "    df.drop(columns=['prev_closing_price'], inplace=True)\n",
    "    df = df.round(decimals=2)\n",
    "    df = df[df.Date >= arg_date]\n",
    "    return df\n",
    "\n",
    "def load(bucket, df, trg_key, trg_format):\n",
    "    key = trg_key + datetime.today().strftime(\"%Y-%m-%d_%H%M%S\") + trg_format\n",
    "    write_df_s3(bucket=bucket, df=df, key=key)\n",
    "    return True"
   ]
  },
  {
   "cell_type": "code",
   "execution_count": 10,
   "metadata": {},
   "outputs": [],
   "source": [
    "args_date = '2022-05-06'\n",
    "src_format = '%Y-%m-%d'\n",
    "src_bucket = 'xetra-1234'\n",
    "target_bucket = 'xetra-1234'\n",
    "trg_key = 'xetra_daily_report'\n",
    "trg_format = \".parquet\"\n",
    "columns = [\"ISIN\", \"Date\", \"Time\", \"StartPrice\", \"MaxPrice\", \"MinPrice\", \"EndPrice\", \"TradeVolume\"]"
   ]
  },
  {
   "cell_type": "code",
   "execution_count": null,
   "metadata": {},
   "outputs": [],
   "source": [
    "# s3 resource\n",
    "s3 = boto3.resource(\"s3\")\n",
    "bucket = s3.Bucket(src_bucket)\n"
   ]
  },
  {
   "cell_type": "markdown",
   "metadata": {},
   "source": [
    "#### Aggregations"
   ]
  },
  {
   "cell_type": "code",
   "execution_count": null,
   "metadata": {},
   "outputs": [],
   "source": [
    "df_all = df_all.groupby(['ISIN', 'Date'], as_index=False).agg(\n",
    "    opening_price_eur=('opening_price', 'min'), \n",
    "    closing_price_eur=('closing_price', 'min'),\n",
    "    minimum_price_eur=('MinPrice', 'min'),\n",
    "    maximum_price_eur=('MaxPrice', 'max'),\n",
    "    daily_trader_volume=('TradedVolume', 'sum')\n",
    ")"
   ]
  },
  {
   "cell_type": "markdown",
   "metadata": {},
   "source": [
    "#### Percent change Previous Closing"
   ]
  },
  {
   "cell_type": "code",
   "execution_count": null,
   "metadata": {},
   "outputs": [],
   "source": [
    "df_all['prev_closing_price'] = df_all.sort_values(by=['Date']).groupby(['ISIN'])['closing_price_eur'].shift(1)"
   ]
  },
  {
   "cell_type": "code",
   "execution_count": null,
   "metadata": {},
   "outputs": [],
   "source": [
    "df_all['change_prev_closing_%'] = (\n",
    "    df_all['closing_price_eur'] - df_all['prev_closing_price']\n",
    ") / df_all['prev_closing_price'] * 100"
   ]
  },
  {
   "cell_type": "code",
   "execution_count": null,
   "metadata": {},
   "outputs": [],
   "source": [
    "df_all.drop(\n",
    "    columns=['prev_closing_price'],\n",
    "    inplace=True\n",
    ")"
   ]
  },
  {
   "cell_type": "code",
   "execution_count": null,
   "metadata": {},
   "outputs": [],
   "source": [
    "df_all = df_all.round(decimals=2)"
   ]
  },
  {
   "cell_type": "code",
   "execution_count": null,
   "metadata": {},
   "outputs": [],
   "source": [
    "df_all = df_all[df_all.Date >= args_date]"
   ]
  },
  {
   "cell_type": "markdown",
   "metadata": {},
   "source": [
    "#### Write to S3"
   ]
  },
  {
   "cell_type": "code",
   "execution_count": null,
   "metadata": {},
   "outputs": [],
   "source": [
    "# Target bucket instance\n",
    "bucket_target = s3.Bucket(target_bucket)\n"
   ]
  },
  {
   "attachments": {},
   "cell_type": "markdown",
   "metadata": {},
   "source": [
    "#### Reading the uploaded file"
   ]
  },
  {
   "cell_type": "code",
   "execution_count": null,
   "metadata": {},
   "outputs": [],
   "source": [
    "for obj in bucket_target.objects.all():\n",
    "    print(obj.key)"
   ]
  },
  {
   "cell_type": "code",
   "execution_count": null,
   "metadata": {},
   "outputs": [],
   "source": [
    "prq_obj = bucket_target.Object(key='xetra_daily_report_20230510_101629.parquet').get().get('Body').read()\n",
    "data = BytesIO(prq_obj)\n",
    "df_report = pd.read_parquet(data)"
   ]
  }
 ],
 "metadata": {
  "kernelspec": {
   "display_name": "env",
   "language": "python",
   "name": "python3"
  },
  "language_info": {
   "codemirror_mode": {
    "name": "ipython",
    "version": 3
   },
   "file_extension": ".py",
   "mimetype": "text/x-python",
   "name": "python",
   "nbconvert_exporter": "python",
   "pygments_lexer": "ipython3",
   "version": "3.9.12"
  },
  "orig_nbformat": 4
 },
 "nbformat": 4,
 "nbformat_minor": 2
}
